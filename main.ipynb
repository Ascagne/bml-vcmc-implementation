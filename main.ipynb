{
 "cells": [
  {
   "cell_type": "markdown",
   "id": "c892ea4d-ce7c-4e40-ac33-462fb47f327a",
   "metadata": {},
   "source": [
    "# I. Imports"
   ]
  },
  {
   "cell_type": "code",
   "execution_count": 13,
   "id": "aa022d15-ff3c-4afe-ba93-d73d9f450330",
   "metadata": {},
   "outputs": [],
   "source": [
    "# External libraries\n",
    "\n",
    "import numpy as np\n",
    "import matplotlib.pyplot as plt\n",
    "\n",
    "# Internal imports\n",
    "\n",
    "from src.data import X, y, d\n",
    "from src.aggregationFunctions import uniform_agg, gaussian_agg\n",
    "from src.functions import *\n",
    "from src.samplers import cmc\n",
    "from src.variationalObjective import variational_obj\n",
    "from src.gradientDescent import gradient_descent_W\n",
    "from src.samplers import gibbs_sampler"
   ]
  },
  {
   "cell_type": "markdown",
   "id": "0a0b8afd-d1cb-44da-b555-08e7f2d2813f",
   "metadata": {},
   "source": [
    "# II. Sample from data using CMC"
   ]
  },
  {
   "cell_type": "code",
   "execution_count": 14,
   "id": "2a002d1e-60a5-4015-8188-5268529f5594",
   "metadata": {},
   "outputs": [],
   "source": [
    "ncores = 10\n",
    "W = np.array([np.eye(d) for k in range(ncores)])\n",
    "betas = cmc(\n",
    "    X = X,\n",
    "    y = y,\n",
    "    ncores=ncores,\n",
    "    nsim=100,\n",
    "    burnin=10\n",
    ")"
   ]
  },
  {
   "cell_type": "markdown",
   "id": "8d6a8c06-9981-40e9-972c-56635f7d9e96",
   "metadata": {},
   "source": [
    "# III. Gradient descent"
   ]
  },
  {
   "cell_type": "code",
   "execution_count": 15,
   "id": "528add20-018c-4c65-bb81-fc22dece3509",
   "metadata": {},
   "outputs": [
    {
     "name": "stdout",
     "output_type": "stream",
     "text": [
      "iter: 0\n",
      "iter: 1\n",
      "iter: 2\n",
      "iter: 3\n",
      "iter: 4\n",
      "iter: 5\n",
      "iter: 6\n",
      "iter: 7\n",
      "iter: 8\n",
      "iter: 9\n"
     ]
    }
   ],
   "source": [
    "lr = 1\n",
    "niter = 10\n",
    "tol = 1e-6\n",
    "sigma = 1\n",
    "\n",
    "K,nsamples,d=betas.shape\n",
    "S = np.array([np.mean([np.outer(betas[k,i],betas[k,i]) for i in range(nsamples)],axis=0) for k in range(K)])\n",
    "mu = np.mean(betas,axis=1)\n",
    "W = np.array([np.eye(d)/K for _ in range(K)]) #usual initialisation\n",
    "\n",
    "W = gradient_descent_W(\n",
    "    W_0 = W,\n",
    "    S = S,\n",
    "    mu = mu,\n",
    "    betas = betas, \n",
    "    X = X,\n",
    "    y = y,\n",
    "    learning_rate = lr,\n",
    "    niter = niter,\n",
    "    tolerance = tol\n",
    ")"
   ]
  },
  {
   "cell_type": "code",
   "execution_count": 16,
   "id": "b81fbb86-5c38-48e1-a44c-21047c8f84b2",
   "metadata": {},
   "outputs": [
    {
     "data": {
      "text/plain": [
       "array([ 1.        ,  4.21809744, -8.69069231,  2.77088525,  1.18058774])"
      ]
     },
     "execution_count": 16,
     "metadata": {},
     "output_type": "execute_result"
    }
   ],
   "source": [
    "betas_vcmc=np.sum([(W/np.sum(W,axis=0))[k] @np.mean(betas[k],axis=0) for k in range(K)],axis=0)\n",
    "betas_vcmc/betas_vcmc[0]"
   ]
  },
  {
   "cell_type": "markdown",
   "id": "3ae2a7f1-ba1c-425f-85ab-5ef44ea506cc",
   "metadata": {},
   "source": [
    "# Results"
   ]
  },
  {
   "cell_type": "code",
   "execution_count": 20,
   "id": "f181f3e2",
   "metadata": {},
   "outputs": [],
   "source": [
    "betas=gibbs_sampler(X,y,nsim=2000,burnin=500)"
   ]
  },
  {
   "cell_type": "code",
   "execution_count": 21,
   "id": "330d6330-4561-41dc-bd3e-024213b2c539",
   "metadata": {},
   "outputs": [
    {
     "data": {
      "text/plain": [
       "array([ 1.        , -0.10536487, -0.00796951, -0.32721886, -0.8795144 ])"
      ]
     },
     "execution_count": 21,
     "metadata": {},
     "output_type": "execute_result"
    }
   ],
   "source": [
    "map_estimator=betas.mean(axis=0)\n",
    "map_estimator/=map_estimator[0]\n",
    "map_estimator"
   ]
  },
  {
   "cell_type": "code",
   "execution_count": 22,
   "id": "855b08f8",
   "metadata": {},
   "outputs": [],
   "source": [
    "ncores_list=[5,10,25,50,100]\n",
    "err_uni=[]\n",
    "err_gauss=[]\n",
    "for ncores in ncores_list:\n",
    "    sub_thetas=cmc(X,y,ncores=ncores,nsim=2000,burnin=500)\n",
    "    theta_uni=uniform_agg(sub_thetas)\n",
    "    theta_gauss=gaussian_agg(sub_thetas)\n",
    "    theta_uni/=theta_uni[0]\n",
    "    theta_gauss/=theta_gauss[0]\n",
    "    err_uni.append(np.linalg.norm(map_estimator-theta_uni,ord=1)/np.linalg.norm(map_estimator,ord=1))\n",
    "    err_gauss.append(np.linalg.norm(map_estimator-theta_gauss,ord=1)/np.linalg.norm(map_estimator,ord=1))"
   ]
  },
  {
   "cell_type": "code",
   "execution_count": 23,
   "id": "2c3da913-9709-4983-8bba-f26ecafb790f",
   "metadata": {},
   "outputs": [
    {
     "data": {
      "image/png": "[encoded data removed]",
      "text/plain": [
       "<Figure size 432x288 with 1 Axes>"
      ]
     },
     "metadata": {
      "needs_background": "light"
     },
     "output_type": "display_data"
    }
   ],
   "source": [
    "X_axis = np.arange(len(ncores_list))\n",
    "plt.bar(X_axis - 0.2,err_uni, 0.4, label = 'Uniform')\n",
    "plt.bar(X_axis + 0.2,err_gauss, 0.4, label = 'Gaussian')\n",
    "plt.xticks(X_axis, ncores_list)\n",
    "plt.xlabel(\"Number of cores\")\n",
    "plt.ylabel(\"Error\")\n",
    "plt.legend()\n",
    "plt.show()"
   ]
  }
 ],
 "metadata": {
  "kernelspec": {
   "display_name": "Python 3.9.7 ('base')",
   "language": "python",
   "name": "python3"
  },
  "language_info": {
   "codemirror_mode": {
    "name": "ipython",
    "version": 3
   },
   "file_extension": ".py",
   "mimetype": "text/x-python",
   "name": "python",
   "nbconvert_exporter": "python",
   "pygments_lexer": "ipython3",
   "version": "3.9.7"
  },
  "vscode": {
   "interpreter": {
    "hash": "8029c709e84c1a8abd9d2c4be48a613c22badb8b8c37d71c0b0342174a8af14c"
   }
  }
 },
 "nbformat": 4,
 "nbformat_minor": 5
}
