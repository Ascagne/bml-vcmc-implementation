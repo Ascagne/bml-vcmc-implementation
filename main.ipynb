{
 "cells": [
  {
   "cell_type": "markdown",
   "id": "c892ea4d-ce7c-4e40-ac33-462fb47f327a",
   "metadata": {},
   "source": [
    "# I. Imports"
   ]
  },
  {
   "cell_type": "code",
   "execution_count": 8,
   "id": "aa022d15-ff3c-4afe-ba93-d73d9f450330",
   "metadata": {},
   "outputs": [],
   "source": [
    "# External libraries\n",
    "\n",
    "import numpy as np\n",
    "import matplotlib.pyplot as plt\n",
    "\n",
    "# Internal imports\n",
    "\n",
    "from src.data import X, y, d\n",
    "from src.aggregationFunctions import uniform_agg, gaussian_agg\n",
    "from src.functions import *\n",
    "from src.samplers import cmc\n",
    "from src.variationalObjective import variational_obj\n",
    "from src.gradientDescent import gradient_descent_W\n",
    "from src.samplers import gibbs_sampler"
   ]
  },
  {
   "cell_type": "markdown",
   "id": "0a0b8afd-d1cb-44da-b555-08e7f2d2813f",
   "metadata": {},
   "source": [
    "# II. Sample from data using CMC"
   ]
  },
  {
   "cell_type": "code",
   "execution_count": 6,
   "id": "2a002d1e-60a5-4015-8188-5268529f5594",
   "metadata": {},
   "outputs": [],
   "source": [
    "ncores = 10\n",
    "W = np.array([np.eye(d) for k in range(ncores)])\n",
    "betas = cmc(\n",
    "    X = X,\n",
    "    y = y,\n",
    "    ncores=ncores,\n",
    "    nsim=100,\n",
    "    burnin=10\n",
    ")"
   ]
  },
  {
   "cell_type": "markdown",
   "id": "8d6a8c06-9981-40e9-972c-56635f7d9e96",
   "metadata": {},
   "source": [
    "# III. Gradient descent"
   ]
  },
  {
   "cell_type": "code",
   "execution_count": 7,
   "id": "528add20-018c-4c65-bb81-fc22dece3509",
   "metadata": {},
   "outputs": [
    {
     "name": "stdout",
     "output_type": "stream",
     "text": [
      "iter: 0\n"
     ]
    },
    {
     "ename": "KeyboardInterrupt",
     "evalue": "",
     "output_type": "error",
     "traceback": [
      "\u001b[0;31m---------------------------------------------------------------------------\u001b[0m",
      "\u001b[0;31mKeyboardInterrupt\u001b[0m                         Traceback (most recent call last)",
      "\u001b[0;32m/tmp/ipykernel_90678/177687131.py\u001b[0m in \u001b[0;36m<module>\u001b[0;34m\u001b[0m\n\u001b[1;32m      9\u001b[0m \u001b[0mW\u001b[0m \u001b[0;34m=\u001b[0m \u001b[0mnp\u001b[0m\u001b[0;34m.\u001b[0m\u001b[0marray\u001b[0m\u001b[0;34m(\u001b[0m\u001b[0;34m[\u001b[0m\u001b[0mnp\u001b[0m\u001b[0;34m.\u001b[0m\u001b[0meye\u001b[0m\u001b[0;34m(\u001b[0m\u001b[0md\u001b[0m\u001b[0;34m)\u001b[0m\u001b[0;34m/\u001b[0m\u001b[0mK\u001b[0m \u001b[0;32mfor\u001b[0m \u001b[0m_\u001b[0m \u001b[0;32min\u001b[0m \u001b[0mrange\u001b[0m\u001b[0;34m(\u001b[0m\u001b[0mK\u001b[0m\u001b[0;34m)\u001b[0m\u001b[0;34m]\u001b[0m\u001b[0;34m)\u001b[0m \u001b[0;31m#usual initialisation\u001b[0m\u001b[0;34m\u001b[0m\u001b[0;34m\u001b[0m\u001b[0m\n\u001b[1;32m     10\u001b[0m \u001b[0;34m\u001b[0m\u001b[0m\n\u001b[0;32m---> 11\u001b[0;31m W = gradient_descent_W(\n\u001b[0m\u001b[1;32m     12\u001b[0m     \u001b[0mW_0\u001b[0m \u001b[0;34m=\u001b[0m \u001b[0mW\u001b[0m\u001b[0;34m,\u001b[0m\u001b[0;34m\u001b[0m\u001b[0;34m\u001b[0m\u001b[0m\n\u001b[1;32m     13\u001b[0m     \u001b[0mS\u001b[0m \u001b[0;34m=\u001b[0m \u001b[0mS\u001b[0m\u001b[0;34m,\u001b[0m\u001b[0;34m\u001b[0m\u001b[0;34m\u001b[0m\u001b[0m\n",
      "\u001b[0;32m~/Documents/centrale/M2/bml/bml-vcmc-implementation/src/gradientDescent.py\u001b[0m in \u001b[0;36mgradient_descent_W\u001b[0;34m(W_0, learning_rate, S, mu, betas, X, y, niter, tolerance)\u001b[0m\n\u001b[1;32m     26\u001b[0m         \u001b[0mprint\u001b[0m\u001b[0;34m(\u001b[0m\u001b[0;34m\"iter:\"\u001b[0m\u001b[0;34m,\u001b[0m \u001b[0mi\u001b[0m\u001b[0;34m)\u001b[0m\u001b[0;34m\u001b[0m\u001b[0;34m\u001b[0m\u001b[0m\n\u001b[1;32m     27\u001b[0m         \u001b[0;32mfor\u001b[0m \u001b[0mk\u001b[0m \u001b[0;32min\u001b[0m \u001b[0mrange\u001b[0m\u001b[0;34m(\u001b[0m\u001b[0mK\u001b[0m\u001b[0;34m)\u001b[0m\u001b[0;34m:\u001b[0m\u001b[0;34m\u001b[0m\u001b[0;34m\u001b[0m\u001b[0m\n\u001b[0;32m---> 28\u001b[0;31m             diff[k] = -learning_rate * gradient_W(\n\u001b[0m\u001b[1;32m     29\u001b[0m                 \u001b[0mW\u001b[0m\u001b[0;34m=\u001b[0m\u001b[0mW\u001b[0m\u001b[0;34m,\u001b[0m\u001b[0;34m\u001b[0m\u001b[0;34m\u001b[0m\u001b[0m\n\u001b[1;32m     30\u001b[0m                 \u001b[0mS\u001b[0m\u001b[0;34m=\u001b[0m\u001b[0mS\u001b[0m\u001b[0;34m,\u001b[0m\u001b[0;34m\u001b[0m\u001b[0;34m\u001b[0m\u001b[0m\n",
      "\u001b[0;32m~/anaconda3/lib/python3.9/site-packages/numba/core/serialize.py\u001b[0m in \u001b[0;36m_numba_unpickle\u001b[0;34m(address, bytedata, hashed)\u001b[0m\n\u001b[1;32m     27\u001b[0m \u001b[0;34m\u001b[0m\u001b[0m\n\u001b[1;32m     28\u001b[0m \u001b[0;34m\u001b[0m\u001b[0m\n\u001b[0;32m---> 29\u001b[0;31m \u001b[0;32mdef\u001b[0m \u001b[0m_numba_unpickle\u001b[0m\u001b[0;34m(\u001b[0m\u001b[0maddress\u001b[0m\u001b[0;34m,\u001b[0m \u001b[0mbytedata\u001b[0m\u001b[0;34m,\u001b[0m \u001b[0mhashed\u001b[0m\u001b[0;34m)\u001b[0m\u001b[0;34m:\u001b[0m\u001b[0;34m\u001b[0m\u001b[0;34m\u001b[0m\u001b[0m\n\u001b[0m\u001b[1;32m     30\u001b[0m     \"\"\"Used by `numba_unpickle` from _helperlib.c\n\u001b[1;32m     31\u001b[0m \u001b[0;34m\u001b[0m\u001b[0m\n",
      "\u001b[0;31mKeyboardInterrupt\u001b[0m: "
     ]
    }
   ],
   "source": [
    "lr = 1\n",
    "niter = 10\n",
    "tol = 1e-6\n",
    "sigma = 1\n",
    "\n",
    "K,nsamples,d=betas.shape\n",
    "S = np.array([np.mean([np.outer(betas[k,i],betas[k,i]) for i in range(nsamples)],axis=0) for k in range(K)])\n",
    "mu = np.mean(betas,axis=1)\n",
    "W = np.array([np.eye(d)/K for _ in range(K)]) #usual initialisation\n",
    "\n",
    "W = gradient_descent_W(\n",
    "    W_0 = W,\n",
    "    S = S,\n",
    "    mu = mu,\n",
    "    betas = betas, \n",
    "    X = X,\n",
    "    y = y,\n",
    "    learning_rate = lr,\n",
    "    niter = niter,\n",
    "    tolerance = tol\n",
    ")"
   ]
  },
  {
   "cell_type": "code",
   "execution_count": 6,
   "id": "b81fbb86-5c38-48e1-a44c-21047c8f84b2",
   "metadata": {},
   "outputs": [
    {
     "data": {
      "text/plain": [
       "array([ 1.        , -0.15523924, 79.12822357,  1.14072088,  0.96038183])"
      ]
     },
     "execution_count": 6,
     "metadata": {},
     "output_type": "execute_result"
    }
   ],
   "source": [
    "betas_vcmc=np.sum([(W/np.sum(W,axis=0))[k] @np.mean(betas[k],axis=0) for k in range(K)],axis=0)\n",
    "betas_vcmc/betas_vcmc[0]"
   ]
  },
  {
   "cell_type": "markdown",
   "id": "3ae2a7f1-ba1c-425f-85ab-5ef44ea506cc",
   "metadata": {},
   "source": [
    "# Results"
   ]
  },
  {
   "cell_type": "code",
   "execution_count": 9,
   "id": "f181f3e2",
   "metadata": {},
   "outputs": [],
   "source": [
    "betas=gibbs_sampler(X,y,nsim=4000,burnin=500)"
   ]
  },
  {
   "cell_type": "code",
   "execution_count": 11,
   "id": "330d6330-4561-41dc-bd3e-024213b2c539",
   "metadata": {},
   "outputs": [
    {
     "data": {
      "text/plain": [
       "array([ 1.        , -0.14046254,  0.03701395, -0.34374295, -0.87787349])"
      ]
     },
     "execution_count": 11,
     "metadata": {},
     "output_type": "execute_result"
    }
   ],
   "source": [
    "map_estimator=betas.mean(axis=0)\n",
    "map_estimator/=map_estimator[0]\n",
    "map_estimator"
   ]
  },
  {
   "cell_type": "code",
   "execution_count": 12,
   "id": "855b08f8",
   "metadata": {},
   "outputs": [],
   "source": [
    "ncores_list=[5,10,25,50,100]\n",
    "err_uni=[]\n",
    "err_gauss=[]\n",
    "for ncores in ncores_list:\n",
    "    sub_thetas=cmc(X,y,ncores=ncores,nsim=2000,burnin=500)\n",
    "    theta_uni=uniform_agg(sub_thetas)\n",
    "    theta_gauss=gaussian_agg(sub_thetas)\n",
    "    theta_uni/=theta_uni[0]\n",
    "    theta_gauss/=theta_gauss[0]\n",
    "    err_uni.append(np.linalg.norm(map_estimator-theta_uni,ord=1)/np.linalg.norm(map_estimator,ord=1))\n",
    "    err_gauss.append(np.linalg.norm(map_estimator-theta_gauss,ord=1)/np.linalg.norm(map_estimator,ord=1))"
   ]
  },
  {
   "cell_type": "code",
   "execution_count": null,
   "id": "2c3da913-9709-4983-8bba-f26ecafb790f",
   "metadata": {},
   "outputs": [],
   "source": [
    "X_axis = np.arange(len(ncores_list))\n",
    "plt.bar(X_axis - 0.2,err_uni, 0.4, label = 'Uniform')\n",
    "plt.bar(X_axis + 0.2,err_gauss, 0.4, label = 'Gaussian')\n",
    "plt.xticks(X_axis, ncores_list)\n",
    "plt.xlabel(\"Number of cores\")\n",
    "plt.ylabel(\"Error\")\n",
    "plt.legend()\n",
    "plt.show()"
   ]
  }
 ],
 "metadata": {
  "kernelspec": {
   "display_name": "Python 3.9.7 ('base')",
   "language": "python",
   "name": "python3"
  },
  "language_info": {
   "codemirror_mode": {
    "name": "ipython",
    "version": 3
   },
   "file_extension": ".py",
   "mimetype": "text/x-python",
   "name": "python",
   "nbconvert_exporter": "python",
   "pygments_lexer": "ipython3",
   "version": "3.9.7"
  },
  "vscode": {
   "interpreter": {
    "hash": "8029c709e84c1a8abd9d2c4be48a613c22badb8b8c37d71c0b0342174a8af14c"
   }
  }
 },
 "nbformat": 4,
 "nbformat_minor": 5
}
