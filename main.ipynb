{
 "cells": [
  {
   "cell_type": "markdown",
   "id": "c892ea4d-ce7c-4e40-ac33-462fb47f327a",
   "metadata": {},
   "source": [
    "# I. Imports"
   ]
  },
  {
   "cell_type": "code",
   "execution_count": 1,
   "id": "aa022d15-ff3c-4afe-ba93-d73d9f450330",
   "metadata": {},
   "outputs": [],
   "source": [
    "# External libraries\n",
    "\n",
    "import numpy as np\n",
    "import matplotlib.pyplot as plt\n",
    "\n",
    "# Internal imports\n",
    "\n",
    "from data import X, y, d\n",
    "from aggregationFunctions import uniform_agg, gaussian_agg\n",
    "from functions import *\n",
    "from samplers import cmc\n",
    "from variationalObjective import variational_obj\n",
    "from gradientDescent import gradient_descent_W"
   ]
  },
  {
   "cell_type": "markdown",
   "id": "0a0b8afd-d1cb-44da-b555-08e7f2d2813f",
   "metadata": {},
   "source": [
    "# II. Sample from data using CMC"
   ]
  },
  {
   "cell_type": "code",
   "execution_count": 2,
   "id": "2a002d1e-60a5-4015-8188-5268529f5594",
   "metadata": {},
   "outputs": [],
   "source": [
    "ncores = 10\n",
    "W = np.array([np.eye(d) for k in range(ncores)])\n",
    "betas = cmc(\n",
    "    X = X,\n",
    "    y = y,\n",
    "    ncores=ncores,\n",
    "    nsim=100,\n",
    "    burnin=10\n",
    ")"
   ]
  },
  {
   "cell_type": "markdown",
   "id": "8d6a8c06-9981-40e9-972c-56635f7d9e96",
   "metadata": {},
   "source": [
    "# III. Gradient descent"
   ]
  },
  {
   "cell_type": "code",
   "execution_count": 3,
   "id": "528add20-018c-4c65-bb81-fc22dece3509",
   "metadata": {},
   "outputs": [
    {
     "name": "stdout",
     "output_type": "stream",
     "text": [
      "iter: 0\n",
      "iter: 1\n",
      "iter: 2\n",
      "iter: 3\n",
      "iter: 4\n",
      "iter: 5\n",
      "iter: 6\n",
      "iter: 7\n",
      "iter: 8\n",
      "iter: 9\n"
     ]
    }
   ],
   "source": [
    "lr = 1\n",
    "niter = 10\n",
    "tol = 1e-6\n",
    "sigma = 1\n",
    "\n",
    "K,nsamples,d=betas.shape\n",
    "S = np.array([np.mean([np.outer(betas[k,i],betas[k,i]) for i in range(nsamples)],axis=0) for k in range(K)])\n",
    "mu = np.mean(betas,axis=1)\n",
    "W = np.array([np.eye(d)/K for _ in range(K)]) #usual initialisation\n",
    "\n",
    "W = gradient_descent_W(\n",
    "    W_0 = W,\n",
    "    S = S,\n",
    "    mu = mu,\n",
    "    betas = betas, \n",
    "    X = X,\n",
    "    y = y,\n",
    "    learning_rate = lr,\n",
    "    niter = niter,\n",
    "    tolerance = tol\n",
    ")"
   ]
  },
  {
   "cell_type": "code",
   "execution_count": 6,
   "id": "b81fbb86-5c38-48e1-a44c-21047c8f84b2",
   "metadata": {},
   "outputs": [
    {
     "data": {
      "text/plain": [
       "array([ 1.        , -0.15523924, 79.12822357,  1.14072088,  0.96038183])"
      ]
     },
     "execution_count": 6,
     "metadata": {},
     "output_type": "execute_result"
    }
   ],
   "source": [
    "betas_vcmc=np.sum([(W/np.sum(W,axis=0))[k] @np.mean(betas[k],axis=0) for k in range(K)],axis=0)\n",
    "betas_vcmc/betas_vcmc[0]"
   ]
  },
  {
   "cell_type": "markdown",
   "id": "3ae2a7f1-ba1c-425f-85ab-5ef44ea506cc",
   "metadata": {},
   "source": [
    "# Results"
   ]
  },
  {
   "cell_type": "code",
   "execution_count": 7,
   "id": "330d6330-4561-41dc-bd3e-024213b2c539",
   "metadata": {},
   "outputs": [
    {
     "data": {
      "text/plain": [
       "array([ 1.        , -0.02943774,  0.01469499, -0.04778532, -0.94008352])"
      ]
     },
     "execution_count": 7,
     "metadata": {},
     "output_type": "execute_result"
    }
   ],
   "source": [
    "map_estimator=betas.mean(axis=(0,1))\n",
    "map_estimator/=map_estimator[0]\n",
    "map_estimator"
   ]
  },
  {
   "cell_type": "code",
   "execution_count": 8,
   "id": "73c294df-758f-4135-a11b-d861c5a4bdb8",
   "metadata": {},
   "outputs": [
    {
     "name": "stdout",
     "output_type": "stream",
     "text": [
      "[ 1.         -0.02297425  0.08488815 -0.19135351 -0.93081574]\n",
      "[ 1.         -0.03536833  0.07736008 -0.19519449 -0.93858604]\n",
      "uni: 0.11293918707873661\n",
      "gauss: 0.10703845994848504\n",
      "[ 1.          0.09800225  0.15415779  0.01626565 -0.75024872]\n",
      "[ 1.          0.07337862  0.11776385 -0.00363788 -0.79347904]\n",
      "uni: 0.25629338552027525\n",
      "gauss: 0.19519529105134348\n",
      "[ 1.          0.14310589  0.18850559  0.10636571 -0.54205388]\n",
      "[ 1.          0.11047126  0.16189059  0.07760906 -0.62624053]\n",
      "uni: 0.442192028108372\n",
      "gauss: 0.35745147658948717\n"
     ]
    }
   ],
   "source": [
    "ncores_list=[5,25,50]\n",
    "for ncores in ncores_list:\n",
    "    sub_thetas=cmc(X,y,ncores=ncores,nsim=2000,burnin=500)\n",
    "    theta_uni=uniform_agg(sub_thetas)\n",
    "    theta_gauss=gaussian_agg(sub_thetas)\n",
    "    theta_uni/=theta_uni[0]\n",
    "    print(theta_uni)\n",
    "    theta_gauss/=theta_gauss[0]\n",
    "    print(theta_gauss)\n",
    "    err_uni=np.linalg.norm(map_estimator-theta_uni,ord=1)/np.linalg.norm(map_estimator,ord=1)\n",
    "    err_gauss=np.linalg.norm(map_estimator-theta_gauss,ord=1)/np.linalg.norm(map_estimator,ord=1)\n",
    "    print(\"uni:\",err_uni)\n",
    "    print(\"gauss:\",err_gauss)"
   ]
  },
  {
   "cell_type": "code",
   "execution_count": 10,
   "id": "38873c15-32a7-4717-87d1-5681acc9c223",
   "metadata": {},
   "outputs": [],
   "source": [
    "# y_hat_cmc=np.dot(X,map_cmc)>0\n",
    "# np.count_nonzero(y_hat_cmc==y)/n"
   ]
  },
  {
   "cell_type": "code",
   "execution_count": null,
   "id": "2c3da913-9709-4983-8bba-f26ecafb790f",
   "metadata": {},
   "outputs": [],
   "source": []
  }
 ],
 "metadata": {
  "kernelspec": {
   "display_name": "Python 3 (ipykernel)",
   "language": "python",
   "name": "python3"
  },
  "language_info": {
   "codemirror_mode": {
    "name": "ipython",
    "version": 3
   },
   "file_extension": ".py",
   "mimetype": "text/x-python",
   "name": "python",
   "nbconvert_exporter": "python",
   "pygments_lexer": "ipython3",
   "version": "3.9.13"
  }
 },
 "nbformat": 4,
 "nbformat_minor": 5
}
